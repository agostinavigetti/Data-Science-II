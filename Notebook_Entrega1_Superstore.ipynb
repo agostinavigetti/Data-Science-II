# Entrega 1 - Superstore Dataset

## Abstracto: Motivación y Audiencia
En este proyecto se analiza el dataset Superstore con el fin de obtener insights relevantes sobre el rendimiento comercial de una tienda ficticia. La audiencia objetivo incluye gerentes de ventas y analistas de negocios interesados en mejorar la rentabilidad, eficiencia y segmentación de clientes.

## Preguntas / Hipótesis
1. ¿Cuáles son las categorías de productos más vendidas y cuáles generan más ganancias?
2. ¿Existen diferencias de comportamiento por región geográfica?
3. ¿El descuento tiene un impacto negativo o positivo sobre las ganancias?
4. ¿Qué segmentos de clientes son los más rentables?

## Carga de datos